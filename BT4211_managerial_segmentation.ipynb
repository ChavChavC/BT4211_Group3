{
 "cells": [
  {
   "cell_type": "code",
   "execution_count": 1,
   "id": "135bdbe4",
   "metadata": {},
   "outputs": [],
   "source": [
    "# import libraries\n",
    "import pandas as pd\n",
    "import numpy as np\n",
    "import matplotlib.pyplot as plt\n",
    "import seaborn as sns\n",
    "from sklearn.cluster import KMeans\n",
    "from sklearn.preprocessing import StandardScaler\n",
    "from sklearn.cluster import AgglomerativeClustering\n",
    "from scipy.cluster.hierarchy import dendrogram, linkage"
   ]
  },
  {
   "cell_type": "code",
   "execution_count": 2,
   "id": "461a3197",
   "metadata": {},
   "outputs": [],
   "source": [
    "# Load dataset\n",
    "data = pd.read_csv('file.csv')\n",
    "# Drop the unnamed column\n",
    "data = data.drop(columns=['Unnamed: 0'])\n",
    "data.dropna(inplace = True)"
   ]
  },
  {
   "cell_type": "code",
   "execution_count": 3,
   "id": "f873058f",
   "metadata": {},
   "outputs": [],
   "source": [
    "# Convert Transaction_Date to datetime format\n",
    "data['Transaction_Date'] = pd.to_datetime(data['Transaction_Date'])\n",
    "data['Quarter'] = data['Transaction_Date'].dt.to_period('Q')"
   ]
  },
  {
   "cell_type": "code",
   "execution_count": 4,
   "id": "f38c5ac8",
   "metadata": {},
   "outputs": [
    {
     "name": "stdout",
     "output_type": "stream",
     "text": [
      "Latest record date: 2019-12-31 00:00:00\n",
      "Earliest record date: 2019-01-01 00:00:00\n"
     ]
    }
   ],
   "source": [
    "# Latest record in dataset\n",
    "latest_record_date = data['Transaction_Date'].max()\n",
    "earliest_record_date = data['Transaction_Date'].min()\n",
    "print(\"Latest record date:\", latest_record_date)\n",
    "print(\"Earliest record date:\", earliest_record_date)"
   ]
  },
  {
   "cell_type": "markdown",
   "id": "b54f2967",
   "metadata": {},
   "source": [
    "Given that we have data spanning a single year, we will divide it into four quarters.\n",
    "- Q1 (First Quarter): January 1st to March 31st\n",
    "- Q2 (Second Quarter): April 1st to June 30th\n",
    "- Q3 (Third Quarter): July 1st to September 30th\n",
    "- Q4 (Fourth Quarter): October 1st to December 31st"
   ]
  },
  {
   "cell_type": "code",
   "execution_count": 5,
   "id": "62da5176",
   "metadata": {},
   "outputs": [],
   "source": [
    "# Filter data for 2019Q1\n",
    "data_2019Q1 = data[data['Quarter'] == '2019Q1']\n",
    "# Filter data for 2019Q2\n",
    "data_2019Q2 = data[data['Quarter'] == '2019Q2']\n",
    "# Filter data for 2019Q3\n",
    "data_2019Q3 = data[data['Quarter'] == '2019Q3']\n",
    "# Filter data for 2019Q4\n",
    "data_2019Q4 = data[data['Quarter'] == '2019Q4']\n",
    "\n",
    "Last_day_Q1 = pd.to_datetime('2019-3-31')\n",
    "Last_day_Q2 = pd.to_datetime('2019-6-30')\n",
    "Last_day_Q3 = pd.to_datetime('2019-9-30')\n",
    "Last_day_Q4 = pd.to_datetime('2019-12-31')\n",
    "\n",
    "number_of_days_in_Q1 = (Last_day_Q1 - pd.to_datetime('2019-1-1')).days\n",
    "number_of_days_in_Q2 = (Last_day_Q2 - pd.to_datetime('2019-4-1')).days\n",
    "number_of_days_in_Q3 = (Last_day_Q3 - pd.to_datetime('2019-7-1')).days\n",
    "number_of_days_in_Q4 = (Last_day_Q4 - pd.to_datetime('2019-10-1')).days"
   ]
  },
  {
   "cell_type": "code",
   "execution_count": 6,
   "id": "3b20deaa",
   "metadata": {},
   "outputs": [
    {
     "name": "stderr",
     "output_type": "stream",
     "text": [
      "/var/folders/62/grj8ft516czf_wks6812mm0r0000gn/T/ipykernel_27814/2226030959.py:1: SettingWithCopyWarning: \n",
      "A value is trying to be set on a copy of a slice from a DataFrame.\n",
      "Try using .loc[row_indexer,col_indexer] = value instead\n",
      "\n",
      "See the caveats in the documentation: https://pandas.pydata.org/pandas-docs/stable/user_guide/indexing.html#returning-a-view-versus-a-copy\n",
      "  data_2019Q1['Day_Since'] = (Last_day_Q1 - data_2019Q1['Transaction_Date']).dt.days\n",
      "/var/folders/62/grj8ft516czf_wks6812mm0r0000gn/T/ipykernel_27814/2226030959.py:2: SettingWithCopyWarning: \n",
      "A value is trying to be set on a copy of a slice from a DataFrame.\n",
      "Try using .loc[row_indexer,col_indexer] = value instead\n",
      "\n",
      "See the caveats in the documentation: https://pandas.pydata.org/pandas-docs/stable/user_guide/indexing.html#returning-a-view-versus-a-copy\n",
      "  data_2019Q2['Day_Since'] = (Last_day_Q2 - data_2019Q2['Transaction_Date']).dt.days\n",
      "/var/folders/62/grj8ft516czf_wks6812mm0r0000gn/T/ipykernel_27814/2226030959.py:3: SettingWithCopyWarning: \n",
      "A value is trying to be set on a copy of a slice from a DataFrame.\n",
      "Try using .loc[row_indexer,col_indexer] = value instead\n",
      "\n",
      "See the caveats in the documentation: https://pandas.pydata.org/pandas-docs/stable/user_guide/indexing.html#returning-a-view-versus-a-copy\n",
      "  data_2019Q3['Day_Since'] = (Last_day_Q3 - data_2019Q3['Transaction_Date']).dt.days\n",
      "/var/folders/62/grj8ft516czf_wks6812mm0r0000gn/T/ipykernel_27814/2226030959.py:4: SettingWithCopyWarning: \n",
      "A value is trying to be set on a copy of a slice from a DataFrame.\n",
      "Try using .loc[row_indexer,col_indexer] = value instead\n",
      "\n",
      "See the caveats in the documentation: https://pandas.pydata.org/pandas-docs/stable/user_guide/indexing.html#returning-a-view-versus-a-copy\n",
      "  data_2019Q4['Day_Since'] = (Last_day_Q4 - data_2019Q4['Transaction_Date']).dt.days\n"
     ]
    }
   ],
   "source": [
    "data_2019Q1['Day_Since'] = (Last_day_Q1 - data_2019Q1['Transaction_Date']).dt.days\n",
    "data_2019Q2['Day_Since'] = (Last_day_Q2 - data_2019Q2['Transaction_Date']).dt.days\n",
    "data_2019Q3['Day_Since'] = (Last_day_Q3 - data_2019Q3['Transaction_Date']).dt.days\n",
    "data_2019Q4['Day_Since'] = (Last_day_Q4 - data_2019Q4['Transaction_Date']).dt.days"
   ]
  },
  {
   "cell_type": "code",
   "execution_count": 7,
   "id": "2c9542b5",
   "metadata": {},
   "outputs": [],
   "source": [
    "# Computing First Purchase, Recency, Frequency, and Monetary (RFM) Analysis (Q1)\n",
    "firstPurchase_df = data_2019Q1.groupby('CustomerID')['Day_Since'].max().reset_index()\n",
    "firstPurchase_df.columns = ['CustomerID', 'First Purchase']\n",
    "\n",
    "# Recency\n",
    "recency_df = data_2019Q1.groupby('CustomerID')['Day_Since'].min().reset_index()\n",
    "recency_df.columns = ['CustomerID', 'Recency']\n",
    "\n",
    "# Frequency\n",
    "frequency_df = data_2019Q1.groupby('CustomerID')['Transaction_Date'].count().reset_index()\n",
    "frequency_df.columns = ['CustomerID', 'Frequency']\n",
    "\n",
    "# Compute the total monetary value for each customer\n",
    "monetary_df = data_2019Q1.groupby('CustomerID').apply(lambda x: (x['Quantity'] * x['Avg_Price']).sum()).reset_index()\n",
    "monetary_df.columns = ['CustomerID', 'Monetary']\n",
    "\n",
    "# Combine RFM values\n",
    "rfm_df_Q1 = recency_df.merge(frequency_df, on='CustomerID').merge(monetary_df, on='CustomerID').merge(firstPurchase_df, on='CustomerID')"
   ]
  },
  {
   "cell_type": "code",
   "execution_count": 8,
   "id": "2f94c923",
   "metadata": {},
   "outputs": [],
   "source": [
    "# Computing First Purchase, Recency, Frequency, and Monetary (RFM) Analysis (Q2)\n",
    "firstPurchase_df = data_2019Q2.groupby('CustomerID')['Day_Since'].max().reset_index()\n",
    "firstPurchase_df.columns = ['CustomerID', 'First Purchase']\n",
    "\n",
    "# Recency\n",
    "recency_df = data_2019Q2.groupby('CustomerID')['Day_Since'].min().reset_index()\n",
    "recency_df.columns = ['CustomerID', 'Recency']\n",
    "\n",
    "# Frequency\n",
    "frequency_df = data_2019Q2.groupby('CustomerID')['Transaction_Date'].count().reset_index()\n",
    "frequency_df.columns = ['CustomerID', 'Frequency']\n",
    "\n",
    "# Compute the total monetary value for each customer\n",
    "monetary_df = data_2019Q2.groupby('CustomerID').apply(lambda x: (x['Quantity'] * x['Avg_Price']).sum()).reset_index()\n",
    "monetary_df.columns = ['CustomerID', 'Monetary']\n",
    "\n",
    "# Combine RFM values\n",
    "rfm_df_Q2 = recency_df.merge(frequency_df, on='CustomerID').merge(monetary_df, on='CustomerID').merge(firstPurchase_df, on='CustomerID')"
   ]
  },
  {
   "cell_type": "code",
   "execution_count": 9,
   "id": "7f1262b7",
   "metadata": {},
   "outputs": [],
   "source": [
    "# Computing First Purchase, Recency, Frequency, and Monetary (RFM) Analysis (Q3)\n",
    "firstPurchase_df = data_2019Q3.groupby('CustomerID')['Day_Since'].max().reset_index()\n",
    "firstPurchase_df.columns = ['CustomerID', 'First Purchase']\n",
    "\n",
    "# Recency\n",
    "recency_df = data_2019Q3.groupby('CustomerID')['Day_Since'].min().reset_index()\n",
    "recency_df.columns = ['CustomerID', 'Recency']\n",
    "\n",
    "# Frequency\n",
    "frequency_df = data_2019Q3.groupby('CustomerID')['Transaction_Date'].count().reset_index()\n",
    "frequency_df.columns = ['CustomerID', 'Frequency']\n",
    "\n",
    "# Compute the total monetary value for each customer\n",
    "monetary_df = data_2019Q3.groupby('CustomerID').apply(lambda x: (x['Quantity'] * x['Avg_Price']).sum()).reset_index()\n",
    "monetary_df.columns = ['CustomerID', 'Monetary']\n",
    "\n",
    "# Combine RFM values\n",
    "rfm_df_Q3 = recency_df.merge(frequency_df, on='CustomerID').merge(monetary_df, on='CustomerID').merge(firstPurchase_df, on='CustomerID')"
   ]
  },
  {
   "cell_type": "code",
   "execution_count": 10,
   "id": "885916c9",
   "metadata": {},
   "outputs": [],
   "source": [
    "# Computing First Purchase, Recency, Frequency, and Monetary (RFM) Analysis (Q4)\n",
    "firstPurchase_df = data_2019Q4.groupby('CustomerID')['Day_Since'].max().reset_index()\n",
    "firstPurchase_df.columns = ['CustomerID', 'First Purchase']\n",
    "\n",
    "# Recency\n",
    "recency_df = data_2019Q4.groupby('CustomerID')['Day_Since'].min().reset_index()\n",
    "recency_df.columns = ['CustomerID', 'Recency']\n",
    "\n",
    "# Frequency\n",
    "frequency_df = data_2019Q4.groupby('CustomerID')['Transaction_Date'].count().reset_index()\n",
    "frequency_df.columns = ['CustomerID', 'Frequency']\n",
    "\n",
    "# Compute the total monetary value for each customer\n",
    "monetary_df = data_2019Q4.groupby('CustomerID').apply(lambda x: (x['Quantity'] * x['Avg_Price']).sum()).reset_index()\n",
    "monetary_df.columns = ['CustomerID', 'Monetary']\n",
    "\n",
    "# Combine RFM values\n",
    "rfm_df_Q4 = recency_df.merge(frequency_df, on='CustomerID').merge(monetary_df, on='CustomerID').merge(firstPurchase_df, on='CustomerID')"
   ]
  },
  {
   "cell_type": "code",
   "execution_count": 11,
   "id": "02790146",
   "metadata": {},
   "outputs": [],
   "source": [
    "recency_quartiles = rfm_df_Q1['Recency'].quantile([0.25, 0.5, 0.75])\n",
    "Q1_q1,Q1_q2,Q1_q3 = recency_quartiles[0.25], recency_quartiles[0.5], recency_quartiles[0.75]\n",
    "\n",
    "# Calculate mean and median\n",
    "mean_monetary_Q1 = rfm_df_Q1['Monetary'].mean()"
   ]
  },
  {
   "cell_type": "code",
   "execution_count": 12,
   "id": "2df78bfe",
   "metadata": {},
   "outputs": [],
   "source": [
    "recency_quartiles = rfm_df_Q2['Recency'].quantile([0.25, 0.5, 0.75])\n",
    "Q2_q1,Q2_q2,Q2_q3 = recency_quartiles[0.25], recency_quartiles[0.5], recency_quartiles[0.75]\n",
    "\n",
    "# Calculate mean and median\n",
    "mean_monetary_Q2 = rfm_df_Q2['Monetary'].mean()"
   ]
  },
  {
   "cell_type": "code",
   "execution_count": 13,
   "id": "4d8830bc",
   "metadata": {},
   "outputs": [],
   "source": [
    "recency_quartiles = rfm_df_Q3['Recency'].quantile([0.25, 0.5, 0.75])\n",
    "Q3_q1,Q3_q2,Q3_q3 = recency_quartiles[0.25], recency_quartiles[0.5], recency_quartiles[0.75]\n",
    "\n",
    "# Calculate mean and median\n",
    "mean_monetary_Q3 = rfm_df_Q3['Monetary'].mean()"
   ]
  },
  {
   "cell_type": "code",
   "execution_count": 14,
   "id": "bbda25da",
   "metadata": {},
   "outputs": [],
   "source": [
    "recency_quartiles = rfm_df_Q4['Recency'].quantile([0.25, 0.5, 0.75])\n",
    "Q4_q1,Q4_q2,Q4_q3 = recency_quartiles[0.25], recency_quartiles[0.5], recency_quartiles[0.75]\n",
    "\n",
    "# Calculate mean and median\n",
    "mean_monetary_Q4 = rfm_df_Q4['Monetary'].mean()"
   ]
  },
  {
   "cell_type": "code",
   "execution_count": 15,
   "id": "7accc1dc",
   "metadata": {},
   "outputs": [],
   "source": [
    "avg_q1 = (Q1_q1 + Q2_q1 + Q3_q1 + Q4_q1) / 4\n",
    "avg_q2 = (Q1_q2 + Q2_q2 + Q3_q2 + Q4_q2) / 4\n",
    "avg_q3 = (Q1_q3 + Q2_q3 + Q3_q3 + Q4_q3) / 4\n",
    "\n",
    "avg_monetary = (mean_monetary_Q1 + mean_monetary_Q2 + mean_monetary_Q3 + mean_monetary_Q4) / 4"
   ]
  },
  {
   "cell_type": "code",
   "execution_count": 16,
   "id": "65d405b6",
   "metadata": {},
   "outputs": [
    {
     "name": "stdout",
     "output_type": "stream",
     "text": [
      "Average Quartiles of Recency:\n",
      "25th percentile: 18.0\n",
      "50th percentile: 39.625\n",
      "75th percentile: 64.1875\n",
      "Mean of Monetary: 2097.351925695743\n"
     ]
    }
   ],
   "source": [
    "# Output quartile values\n",
    "print(\"Average Quartiles of Recency:\")\n",
    "print(\"25th percentile:\", avg_q1)\n",
    "print(\"50th percentile:\", avg_q2)\n",
    "print(\"75th percentile:\", avg_q3)\n",
    "\n",
    "# Output mean and median\n",
    "print(\"Mean of Monetary:\", avg_monetary)"
   ]
  },
  {
   "cell_type": "code",
   "execution_count": 17,
   "id": "c1ff22dd",
   "metadata": {},
   "outputs": [],
   "source": [
    "# Filter data for quarters until Q2\n",
    "customers_at_the_end_of_2019Q2 = data[(data['Quarter'] != '2019Q4') & (data['Quarter'] != '2019Q3')].copy()\n",
    "\n",
    "# Calculate new values for 'Day_Since'\n",
    "new_day_since = (Last_day_Q2 - customers_at_the_end_of_2019Q2['Transaction_Date']).dt.days\n",
    "\n",
    "# Use .loc to assign new values to 'Day_Since'\n",
    "customers_at_the_end_of_2019Q2.loc[:, 'Day_Since'] = new_day_since"
   ]
  },
  {
   "cell_type": "code",
   "execution_count": 18,
   "id": "bd5b7cc1",
   "metadata": {},
   "outputs": [],
   "source": [
    "firstPurchase_df = customers_at_the_end_of_2019Q2.groupby('CustomerID')['Day_Since'].max().reset_index()\n",
    "firstPurchase_df.columns = ['CustomerID', 'First Purchase']\n",
    "\n",
    "# Computing Recency, Frequency, and Monetary (RFM) Analysis\n",
    "# Recency\n",
    "recency_df = customers_at_the_end_of_2019Q2.groupby('CustomerID')['Day_Since'].min().reset_index()\n",
    "recency_df.columns = ['CustomerID', 'Recency']\n",
    "\n",
    "# Frequency\n",
    "frequency_df = customers_at_the_end_of_2019Q2.groupby('CustomerID')['Transaction_Date'].count().reset_index()\n",
    "frequency_df.columns = ['CustomerID', 'Frequency']\n",
    "\n",
    "# Compute the total monetary value for each customer\n",
    "monetary_df = customers_at_the_end_of_2019Q2.groupby('CustomerID').apply(lambda x: (x['Quantity'] * x['Avg_Price']).sum()).reset_index()\n",
    "monetary_df.columns = ['CustomerID', 'Monetary']\n",
    "\n",
    "# Combine RFM values\n",
    "rfm_df_end_of_2019Q2 = recency_df.merge(frequency_df, on='CustomerID').merge(monetary_df, on='CustomerID').merge(firstPurchase_df, on='CustomerID')"
   ]
  },
  {
   "cell_type": "code",
   "execution_count": 19,
   "id": "edfce91b",
   "metadata": {},
   "outputs": [],
   "source": [
    "# Segmentation for Q1\n",
    "\n",
    "# Define segmentation categories\n",
    "def segment_customer(recency, monetary, firstPurchase):\n",
    "    if recency - number_of_days_in_Q1 >0:\n",
    "        return 'Inactive'\n",
    "    if recency <= number_of_days_in_Q1 / 3:\n",
    "        if monetary >= avg_monetary:\n",
    "            return 'Active_High_Value'\n",
    "        else:\n",
    "            return 'Active_Low_Value'\n",
    "    elif recency <= number_of_days_in_Q1 / 3 * 2:\n",
    "        if monetary >= avg_monetary:\n",
    "            return 'Warm_High_Value'\n",
    "        else:\n",
    "            return 'Warm_Low_Value'\n",
    "    else:\n",
    "        return 'Cold'\n",
    "\n",
    "# Apply segmentation function to create a new column 'Segment'\n",
    "rfm_df_Q1['Segment'] = rfm_df_Q1.apply(lambda row: segment_customer(row['Recency'], row['Monetary'], row['First Purchase']), axis=1)"
   ]
  },
  {
   "cell_type": "code",
   "execution_count": 20,
   "id": "942b0512",
   "metadata": {},
   "outputs": [],
   "source": [
    "recency_quartiles = rfm_df_end_of_2019Q2['Recency'].quantile([0.25, 0.5, 0.75])\n",
    "end_of_Q2_q1,end_of_Q2_q2,end_of_Q2_q3 = recency_quartiles[0.25], recency_quartiles[0.5], recency_quartiles[0.75]\n",
    "\n",
    "# Calculate mean and median\n",
    "mean_monetary_end_of_Q2 = rfm_df_end_of_2019Q2['Monetary'].mean()"
   ]
  },
  {
   "cell_type": "code",
   "execution_count": 21,
   "id": "f0768d27",
   "metadata": {},
   "outputs": [],
   "source": [
    "# Segmentation for Q2\n",
    "\n",
    "# Define segmentation categories\n",
    "def segment_customer(recency, monetary, firstPurchase):\n",
    "    if recency - number_of_days_in_Q2 >0:\n",
    "        return 'Inactive'\n",
    "    if firstPurchase <= number_of_days_in_Q2:\n",
    "        return 'New Active'\n",
    "    if recency <= number_of_days_in_Q2 / 3:\n",
    "        if monetary >= avg_monetary:\n",
    "            return 'Active_High_Value'\n",
    "        else:\n",
    "            return 'Active_Low_Value'\n",
    "    elif recency <= number_of_days_in_Q2 / 3 * 2:\n",
    "        if monetary >= avg_monetary:\n",
    "            return 'Warm_High_Value'\n",
    "        else:\n",
    "            return 'Warm_Low_Value'\n",
    "    else:\n",
    "        return 'Cold'\n",
    "\n",
    "# Apply segmentation function to create a new column 'Segment'\n",
    "rfm_df_end_of_2019Q2['Segment'] = rfm_df_end_of_2019Q2.apply(lambda row: segment_customer(row['Recency'], row['Monetary'], row['First Purchase']), axis=1)"
   ]
  },
  {
   "cell_type": "code",
   "execution_count": 22,
   "id": "38f3a1d2",
   "metadata": {},
   "outputs": [],
   "source": [
    "# Get unique segments at the end of 2019Q1 and 2019Q2\n",
    "segments_end_of_2019Q1 = rfm_df_Q1['Segment'].unique()\n",
    "segments_end_of_2019Q2 = rfm_df_end_of_2019Q2['Segment'].unique()\n",
    "\n",
    "# Initialize transition matrix with zeros\n",
    "transition_matrix_q2 = pd.DataFrame(np.zeros((len(segments_end_of_2019Q1), len(segments_end_of_2019Q2))), index=segments_end_of_2019Q1, columns=segments_end_of_2019Q2)"
   ]
  },
  {
   "cell_type": "code",
   "execution_count": 23,
   "id": "9ae335c3",
   "metadata": {},
   "outputs": [
    {
     "data": {
      "text/html": [
       "<div>\n",
       "<style scoped>\n",
       "    .dataframe tbody tr th:only-of-type {\n",
       "        vertical-align: middle;\n",
       "    }\n",
       "\n",
       "    .dataframe tbody tr th {\n",
       "        vertical-align: top;\n",
       "    }\n",
       "\n",
       "    .dataframe thead th {\n",
       "        text-align: right;\n",
       "    }\n",
       "</style>\n",
       "<table border=\"1\" class=\"dataframe\">\n",
       "  <thead>\n",
       "    <tr style=\"text-align: right;\">\n",
       "      <th></th>\n",
       "      <th>Inactive</th>\n",
       "      <th>New Active</th>\n",
       "      <th>Active_Low_Value</th>\n",
       "      <th>Active_High_Value</th>\n",
       "      <th>Cold</th>\n",
       "      <th>Warm_Low_Value</th>\n",
       "      <th>Warm_High_Value</th>\n",
       "    </tr>\n",
       "  </thead>\n",
       "  <tbody>\n",
       "    <tr>\n",
       "      <th>Active_High_Value</th>\n",
       "      <td>0.608696</td>\n",
       "      <td>0.0</td>\n",
       "      <td>0.000000</td>\n",
       "      <td>0.260870</td>\n",
       "      <td>0.028986</td>\n",
       "      <td>0.000000</td>\n",
       "      <td>0.101449</td>\n",
       "    </tr>\n",
       "    <tr>\n",
       "      <th>Active_Low_Value</th>\n",
       "      <td>0.634328</td>\n",
       "      <td>0.0</td>\n",
       "      <td>0.111940</td>\n",
       "      <td>0.052239</td>\n",
       "      <td>0.074627</td>\n",
       "      <td>0.104478</td>\n",
       "      <td>0.022388</td>\n",
       "    </tr>\n",
       "    <tr>\n",
       "      <th>Warm_Low_Value</th>\n",
       "      <td>0.579710</td>\n",
       "      <td>0.0</td>\n",
       "      <td>0.130435</td>\n",
       "      <td>0.101449</td>\n",
       "      <td>0.057971</td>\n",
       "      <td>0.072464</td>\n",
       "      <td>0.057971</td>\n",
       "    </tr>\n",
       "    <tr>\n",
       "      <th>Cold</th>\n",
       "      <td>0.672619</td>\n",
       "      <td>0.0</td>\n",
       "      <td>0.065476</td>\n",
       "      <td>0.101190</td>\n",
       "      <td>0.095238</td>\n",
       "      <td>0.035714</td>\n",
       "      <td>0.029762</td>\n",
       "    </tr>\n",
       "    <tr>\n",
       "      <th>Warm_High_Value</th>\n",
       "      <td>0.687500</td>\n",
       "      <td>0.0</td>\n",
       "      <td>0.000000</td>\n",
       "      <td>0.104167</td>\n",
       "      <td>0.083333</td>\n",
       "      <td>0.000000</td>\n",
       "      <td>0.125000</td>\n",
       "    </tr>\n",
       "  </tbody>\n",
       "</table>\n",
       "</div>"
      ],
      "text/plain": [
       "                   Inactive  New Active  Active_Low_Value  Active_High_Value  \\\n",
       "Active_High_Value  0.608696         0.0          0.000000           0.260870   \n",
       "Active_Low_Value   0.634328         0.0          0.111940           0.052239   \n",
       "Warm_Low_Value     0.579710         0.0          0.130435           0.101449   \n",
       "Cold               0.672619         0.0          0.065476           0.101190   \n",
       "Warm_High_Value    0.687500         0.0          0.000000           0.104167   \n",
       "\n",
       "                       Cold  Warm_Low_Value  Warm_High_Value  \n",
       "Active_High_Value  0.028986        0.000000         0.101449  \n",
       "Active_Low_Value   0.074627        0.104478         0.022388  \n",
       "Warm_Low_Value     0.057971        0.072464         0.057971  \n",
       "Cold               0.095238        0.035714         0.029762  \n",
       "Warm_High_Value    0.083333        0.000000         0.125000  "
      ]
     },
     "execution_count": 23,
     "metadata": {},
     "output_type": "execute_result"
    }
   ],
   "source": [
    "# Iterate over customers and count transitions\n",
    "for _, customer in rfm_df_Q1.iterrows():\n",
    "    prev_segment = customer['Segment']\n",
    "    curr_segment = rfm_df_end_of_2019Q2.loc[rfm_df_end_of_2019Q2['CustomerID'] == customer['CustomerID'], 'Segment'].iloc[0]\n",
    "    transition_matrix_q2.loc[prev_segment, curr_segment] += 1\n",
    "\n",
    "# Normalize transition matrix to obtain transition probabilities\n",
    "transition_matrix_q2 = transition_matrix_q2.div(transition_matrix_q2.sum(axis=1), axis=0)\n",
    "transition_matrix_q2.fillna(0, inplace=True)\n",
    "transition_matrix_q2"
   ]
  },
  {
   "cell_type": "code",
   "execution_count": 24,
   "id": "3cf8595e",
   "metadata": {},
   "outputs": [
    {
     "data": {
      "image/png": "[encoded data removed]",
      "text/plain": [
       "<Figure size 720x576 with 2 Axes>"
      ]
     },
     "metadata": {
      "needs_background": "light"
     },
     "output_type": "display_data"
    }
   ],
   "source": [
    "# Define the sequence of segments\n",
    "segment_sequence = ['New Active', 'Active_High_Value', 'Active_Low_Value', 'Warm_High_Value', 'Warm_Low_Value', 'Cold', 'Inactive']\n",
    "\n",
    "# Reorder the transition matrix according to the sequence\n",
    "transition_matrix_q2 = transition_matrix_q2.reindex(segment_sequence, axis=0)\n",
    "transition_matrix_q2 = transition_matrix_q2.reindex(segment_sequence, axis=1)\n",
    "transition_matrix_q2.fillna(0, inplace=True)\n",
    "\n",
    "# Plot the heatmap\n",
    "plt.figure(figsize=(10, 8))\n",
    "sns.heatmap(transition_matrix_q2, annot=True, cmap='YlGnBu', fmt='.2f', linewidths=0.5)\n",
    "plt.title('Transition Matrix')\n",
    "plt.xlabel('Segment at the end of 2019Q2')\n",
    "plt.ylabel('Segment at the end of 2019Q1')\n",
    "plt.show()"
   ]
  },
  {
   "cell_type": "code",
   "execution_count": 25,
   "id": "06683222",
   "metadata": {},
   "outputs": [],
   "source": [
    "# Filter data for quarters until Q3\n",
    "customers_at_the_end_of_2019Q3 = data[data['Quarter'] != '2019Q4'].copy()\n",
    "\n",
    "# Calculate new values for 'Day_Since'\n",
    "new_day_since = (Last_day_Q3 - customers_at_the_end_of_2019Q3['Transaction_Date']).dt.days\n",
    "\n",
    "# Use .loc to assign new values to 'Day_Since'\n",
    "customers_at_the_end_of_2019Q3.loc[:, 'Day_Since'] = new_day_since"
   ]
  },
  {
   "cell_type": "code",
   "execution_count": 26,
   "id": "b336d934",
   "metadata": {},
   "outputs": [],
   "source": [
    "firstPurchase_df = customers_at_the_end_of_2019Q3.groupby('CustomerID')['Day_Since'].max().reset_index()\n",
    "firstPurchase_df.columns = ['CustomerID', 'First Purchase']\n",
    "\n",
    "# Computing Recency, Frequency, and Monetary (RFM) Analysis\n",
    "# Recency\n",
    "recency_df = customers_at_the_end_of_2019Q3.groupby('CustomerID')['Day_Since'].min().reset_index()\n",
    "recency_df.columns = ['CustomerID', 'Recency']\n",
    "\n",
    "# Frequency\n",
    "frequency_df = customers_at_the_end_of_2019Q3.groupby('CustomerID')['Transaction_Date'].count().reset_index()\n",
    "frequency_df.columns = ['CustomerID', 'Frequency']\n",
    "\n",
    "# Compute the total monetary value for each customer\n",
    "monetary_df = customers_at_the_end_of_2019Q3.groupby('CustomerID').apply(lambda x: (x['Quantity'] * x['Avg_Price']).sum()).reset_index()\n",
    "monetary_df.columns = ['CustomerID', 'Monetary']\n",
    "\n",
    "# Combine RFM values\n",
    "rfm_df_end_of_2019Q3 = recency_df.merge(frequency_df, on='CustomerID').merge(monetary_df, on='CustomerID').merge(firstPurchase_df, on='CustomerID')"
   ]
  },
  {
   "cell_type": "code",
   "execution_count": 27,
   "id": "acad868d",
   "metadata": {},
   "outputs": [],
   "source": [
    "recency_quartiles = rfm_df_end_of_2019Q3['Recency'].quantile([0.25, 0.5, 0.75])\n",
    "end_of_Q3_q1,end_of_Q3_q2,end_of_Q3_q3 = recency_quartiles[0.25], recency_quartiles[0.5], recency_quartiles[0.75]\n",
    "\n",
    "# Calculate mean and median\n",
    "mean_monetary_end_of_Q3 = rfm_df_end_of_2019Q3['Monetary'].mean()"
   ]
  },
  {
   "cell_type": "code",
   "execution_count": 28,
   "id": "3a6b8420",
   "metadata": {},
   "outputs": [],
   "source": [
    "# Segmentation for Q3\n",
    "\n",
    "# Define segmentation categories\n",
    "def segment_customer(recency, monetary, firstPurchase):\n",
    "    if recency - number_of_days_in_Q3 >0:\n",
    "        return 'Inactive'\n",
    "    if firstPurchase <= number_of_days_in_Q3:\n",
    "        return 'New Active'\n",
    "    if recency <= number_of_days_in_Q3 / 3:\n",
    "        if monetary >= avg_monetary:\n",
    "            return 'Active_High_Value'\n",
    "        else:\n",
    "            return 'Active_Low_Value'\n",
    "    elif recency <= number_of_days_in_Q3 / 3 * 2:\n",
    "        if monetary >= avg_monetary:\n",
    "            return 'Warm_High_Value'\n",
    "        else:\n",
    "            return 'Warm_Low_Value'\n",
    "    else:\n",
    "        return 'Cold'\n",
    "\n",
    "# Apply segmentation function to create a new column 'Segment'\n",
    "rfm_df_end_of_2019Q3['Segment'] = rfm_df_end_of_2019Q3.apply(lambda row: segment_customer(row['Recency'], row['Monetary'], row['First Purchase']), axis=1)"
   ]
  },
  {
   "cell_type": "code",
   "execution_count": 29,
   "id": "07a48d7b",
   "metadata": {},
   "outputs": [],
   "source": [
    "# Get unique segments at the end of 2019Q2 and 2019Q3\n",
    "segments_end_of_2019Q2 = rfm_df_end_of_2019Q2['Segment'].unique()\n",
    "segments_end_of_2019Q3 = rfm_df_end_of_2019Q3['Segment'].unique()\n",
    "\n",
    "# Initialize transition matrix with zeros\n",
    "transition_matrix_q3 = pd.DataFrame(np.zeros((len(segments_end_of_2019Q2), len(segments_end_of_2019Q3))), index=segments_end_of_2019Q2, columns=segments_end_of_2019Q3)"
   ]
  },
  {
   "cell_type": "code",
   "execution_count": 30,
   "id": "4b2600e8",
   "metadata": {},
   "outputs": [],
   "source": [
    "# Iterate over customers and count transitions\n",
    "for _, customer in rfm_df_end_of_2019Q2.iterrows():\n",
    "    prev_segment = customer['Segment']\n",
    "    curr_segment = rfm_df_end_of_2019Q3.loc[rfm_df_end_of_2019Q3['CustomerID'] == customer['CustomerID'], 'Segment'].iloc[0]\n",
    "    transition_matrix_q3.loc[prev_segment, curr_segment] += 1\n",
    "\n",
    "# Normalize transition matrix to obtain transition probabilities\n",
    "transition_matrix_q3 = transition_matrix_q3.div(transition_matrix_q3.sum(axis=1), axis=0)"
   ]
  },
  {
   "cell_type": "code",
   "execution_count": 31,
   "id": "937dc345",
   "metadata": {},
   "outputs": [
    {
     "data": {
      "image/png": "[encoded data removed]",
      "text/plain": [
       "<Figure size 720x576 with 2 Axes>"
      ]
     },
     "metadata": {
      "needs_background": "light"
     },
     "output_type": "display_data"
    }
   ],
   "source": [
    "# Define the sequence of segments\n",
    "segment_sequence = ['New Active', 'Active_High_Value', 'Active_Low_Value', 'Warm_High_Value', 'Warm_Low_Value', 'Cold', 'Inactive']\n",
    "\n",
    "# Reorder the transition matrix according to the sequence\n",
    "transition_matrix_q3 = transition_matrix_q3.reindex(segment_sequence, axis=0)\n",
    "transition_matrix_q3 = transition_matrix_q3.reindex(segment_sequence, axis=1)\n",
    "\n",
    "# Plot the heatmap\n",
    "plt.figure(figsize=(10, 8))\n",
    "sns.heatmap(transition_matrix_q3, annot=True, cmap='YlGnBu', fmt='.2f', linewidths=0.5)\n",
    "plt.title('Transition Matrix')\n",
    "plt.xlabel('Segment at the end of 2019Q3')\n",
    "plt.ylabel('Segment at the end of 2019Q2')\n",
    "plt.show()"
   ]
  },
  {
   "cell_type": "code",
   "execution_count": 32,
   "id": "7c484359",
   "metadata": {},
   "outputs": [],
   "source": [
    "# Filter data for quarters until Q4\n",
    "customers_at_the_end_of_2019Q4 = data.copy()\n",
    "\n",
    "# Calculate new values for 'Day_Since'\n",
    "new_day_since = (Last_day_Q4 - customers_at_the_end_of_2019Q4['Transaction_Date']).dt.days\n",
    "\n",
    "# Use .loc to assign new values to 'Day_Since'\n",
    "customers_at_the_end_of_2019Q4.loc[:, 'Day_Since'] = new_day_since"
   ]
  },
  {
   "cell_type": "code",
   "execution_count": 33,
   "id": "c30d4836",
   "metadata": {},
   "outputs": [],
   "source": [
    "firstPurchase_df = customers_at_the_end_of_2019Q4.groupby('CustomerID')['Day_Since'].max().reset_index()\n",
    "firstPurchase_df.columns = ['CustomerID', 'First Purchase']\n",
    "\n",
    "# Computing Recency, Frequency, and Monetary (RFM) Analysis\n",
    "# Recency\n",
    "recency_df = customers_at_the_end_of_2019Q4.groupby('CustomerID')['Day_Since'].min().reset_index()\n",
    "recency_df.columns = ['CustomerID', 'Recency']\n",
    "\n",
    "# Frequency\n",
    "frequency_df = customers_at_the_end_of_2019Q4.groupby('CustomerID')['Transaction_Date'].count().reset_index()\n",
    "frequency_df.columns = ['CustomerID', 'Frequency']\n",
    "\n",
    "# Compute the total monetary value for each customer\n",
    "monetary_df = customers_at_the_end_of_2019Q4.groupby('CustomerID').apply(lambda x: (x['Quantity'] * x['Avg_Price']).sum()).reset_index()\n",
    "monetary_df.columns = ['CustomerID', 'Monetary']\n",
    "\n",
    "# Combine RFM values\n",
    "rfm_df_end_of_2019Q4 = recency_df.merge(frequency_df, on='CustomerID').merge(monetary_df, on='CustomerID').merge(firstPurchase_df, on='CustomerID')"
   ]
  },
  {
   "cell_type": "code",
   "execution_count": 34,
   "id": "525c71b0",
   "metadata": {},
   "outputs": [],
   "source": [
    "recency_quartiles = rfm_df_end_of_2019Q4['Recency'].quantile([0.25, 0.5, 0.75])\n",
    "end_of_Q4_q1,end_of_Q4_q2,end_of_Q4_q3 = recency_quartiles[0.25], recency_quartiles[0.5], recency_quartiles[0.75]\n",
    "\n",
    "# Calculate mean and median\n",
    "mean_monetary_end_of_Q4 = rfm_df_end_of_2019Q4['Monetary'].mean()"
   ]
  },
  {
   "cell_type": "code",
   "execution_count": 35,
   "id": "f2a6d0ed",
   "metadata": {},
   "outputs": [],
   "source": [
    "# Segmentation for Q4\n",
    "\n",
    "# Define segmentation categories\n",
    "def segment_customer(recency, monetary, firstPurchase):\n",
    "    if recency - number_of_days_in_Q4 >0:\n",
    "        return 'Inactive'\n",
    "    if firstPurchase <= number_of_days_in_Q4:\n",
    "        return 'New Active'\n",
    "    if recency <= number_of_days_in_Q4 / 3:\n",
    "        if monetary >= avg_monetary:\n",
    "            return 'Active_High_Value'\n",
    "        else:\n",
    "            return 'Active_Low_Value'\n",
    "    elif recency <= number_of_days_in_Q4 / 3 * 2:\n",
    "        if monetary >= avg_monetary:\n",
    "            return 'Warm_High_Value'\n",
    "        else:\n",
    "            return 'Warm_Low_Value'\n",
    "    else:\n",
    "        return 'Cold'\n",
    "\n",
    "# Apply segmentation function to create a new column 'Segment'\n",
    "rfm_df_end_of_2019Q4['Segment'] = rfm_df_end_of_2019Q4.apply(lambda row: segment_customer(row['Recency'], row['Monetary'], row['First Purchase']), axis=1)"
   ]
  },
  {
   "cell_type": "code",
   "execution_count": 36,
   "id": "e893bbe5",
   "metadata": {},
   "outputs": [],
   "source": [
    "# Get unique segments at the end of 2019Q3 and 2019Q4\n",
    "segments_end_of_2019Q3 = rfm_df_end_of_2019Q3['Segment'].unique()\n",
    "segments_end_of_2019Q4 = rfm_df_end_of_2019Q4['Segment'].unique()\n",
    "\n",
    "# Initialize transition matrix with zeros\n",
    "transition_matrix = pd.DataFrame(np.zeros((len(segments_end_of_2019Q3), len(segments_end_of_2019Q4))), index=segments_end_of_2019Q3, columns=segments_end_of_2019Q4)"
   ]
  },
  {
   "cell_type": "code",
   "execution_count": 37,
   "id": "e423ae43",
   "metadata": {},
   "outputs": [
    {
     "data": {
      "text/html": [
       "<div>\n",
       "<style scoped>\n",
       "    .dataframe tbody tr th:only-of-type {\n",
       "        vertical-align: middle;\n",
       "    }\n",
       "\n",
       "    .dataframe tbody tr th {\n",
       "        vertical-align: top;\n",
       "    }\n",
       "\n",
       "    .dataframe thead th {\n",
       "        text-align: right;\n",
       "    }\n",
       "</style>\n",
       "<table border=\"1\" class=\"dataframe\">\n",
       "  <thead>\n",
       "    <tr style=\"text-align: right;\">\n",
       "      <th></th>\n",
       "      <th>Inactive</th>\n",
       "      <th>Warm_High_Value</th>\n",
       "      <th>Cold</th>\n",
       "      <th>New Active</th>\n",
       "      <th>Active_High_Value</th>\n",
       "      <th>Active_Low_Value</th>\n",
       "      <th>Warm_Low_Value</th>\n",
       "    </tr>\n",
       "  </thead>\n",
       "  <tbody>\n",
       "    <tr>\n",
       "      <th>New Active</th>\n",
       "      <td>0.807818</td>\n",
       "      <td>0.042345</td>\n",
       "      <td>0.065147</td>\n",
       "      <td>0.0</td>\n",
       "      <td>0.039088</td>\n",
       "      <td>0.022801</td>\n",
       "      <td>0.022801</td>\n",
       "    </tr>\n",
       "    <tr>\n",
       "      <th>Inactive</th>\n",
       "      <td>0.829470</td>\n",
       "      <td>0.052980</td>\n",
       "      <td>0.057947</td>\n",
       "      <td>0.0</td>\n",
       "      <td>0.033113</td>\n",
       "      <td>0.019868</td>\n",
       "      <td>0.006623</td>\n",
       "    </tr>\n",
       "    <tr>\n",
       "      <th>Cold</th>\n",
       "      <td>0.680000</td>\n",
       "      <td>0.066667</td>\n",
       "      <td>0.093333</td>\n",
       "      <td>0.0</td>\n",
       "      <td>0.146667</td>\n",
       "      <td>0.013333</td>\n",
       "      <td>0.000000</td>\n",
       "    </tr>\n",
       "    <tr>\n",
       "      <th>Warm_Low_Value</th>\n",
       "      <td>0.580000</td>\n",
       "      <td>0.020000</td>\n",
       "      <td>0.100000</td>\n",
       "      <td>0.0</td>\n",
       "      <td>0.120000</td>\n",
       "      <td>0.140000</td>\n",
       "      <td>0.040000</td>\n",
       "    </tr>\n",
       "    <tr>\n",
       "      <th>Warm_High_Value</th>\n",
       "      <td>0.442857</td>\n",
       "      <td>0.242857</td>\n",
       "      <td>0.042857</td>\n",
       "      <td>0.0</td>\n",
       "      <td>0.271429</td>\n",
       "      <td>0.000000</td>\n",
       "      <td>0.000000</td>\n",
       "    </tr>\n",
       "    <tr>\n",
       "      <th>Active_High_Value</th>\n",
       "      <td>0.546667</td>\n",
       "      <td>0.133333</td>\n",
       "      <td>0.080000</td>\n",
       "      <td>0.0</td>\n",
       "      <td>0.240000</td>\n",
       "      <td>0.000000</td>\n",
       "      <td>0.000000</td>\n",
       "    </tr>\n",
       "    <tr>\n",
       "      <th>Active_Low_Value</th>\n",
       "      <td>0.653846</td>\n",
       "      <td>0.000000</td>\n",
       "      <td>0.038462</td>\n",
       "      <td>0.0</td>\n",
       "      <td>0.153846</td>\n",
       "      <td>0.076923</td>\n",
       "      <td>0.076923</td>\n",
       "    </tr>\n",
       "  </tbody>\n",
       "</table>\n",
       "</div>"
      ],
      "text/plain": [
       "                   Inactive  Warm_High_Value      Cold  New Active  \\\n",
       "New Active         0.807818         0.042345  0.065147         0.0   \n",
       "Inactive           0.829470         0.052980  0.057947         0.0   \n",
       "Cold               0.680000         0.066667  0.093333         0.0   \n",
       "Warm_Low_Value     0.580000         0.020000  0.100000         0.0   \n",
       "Warm_High_Value    0.442857         0.242857  0.042857         0.0   \n",
       "Active_High_Value  0.546667         0.133333  0.080000         0.0   \n",
       "Active_Low_Value   0.653846         0.000000  0.038462         0.0   \n",
       "\n",
       "                   Active_High_Value  Active_Low_Value  Warm_Low_Value  \n",
       "New Active                  0.039088          0.022801        0.022801  \n",
       "Inactive                    0.033113          0.019868        0.006623  \n",
       "Cold                        0.146667          0.013333        0.000000  \n",
       "Warm_Low_Value              0.120000          0.140000        0.040000  \n",
       "Warm_High_Value             0.271429          0.000000        0.000000  \n",
       "Active_High_Value           0.240000          0.000000        0.000000  \n",
       "Active_Low_Value            0.153846          0.076923        0.076923  "
      ]
     },
     "execution_count": 37,
     "metadata": {},
     "output_type": "execute_result"
    }
   ],
   "source": [
    "# Iterate over customers and count transitions\n",
    "for _, customer in rfm_df_end_of_2019Q3.iterrows():\n",
    "    prev_segment = customer['Segment']\n",
    "    curr_segment = rfm_df_end_of_2019Q4.loc[rfm_df_end_of_2019Q4['CustomerID'] == customer['CustomerID'], 'Segment'].iloc[0]\n",
    "    transition_matrix.loc[prev_segment, curr_segment] += 1\n",
    "\n",
    "# Normalize transition matrix to obtain transition probabilities\n",
    "transition_matrix = transition_matrix.div(transition_matrix.sum(axis=1), axis=0)\n",
    "transition_matrix"
   ]
  },
  {
   "cell_type": "code",
   "execution_count": 38,
   "id": "4eb77a0c",
   "metadata": {},
   "outputs": [
    {
     "data": {
      "image/png": "[encoded data removed]",
      "text/plain": [
       "<Figure size 720x576 with 2 Axes>"
      ]
     },
     "metadata": {
      "needs_background": "light"
     },
     "output_type": "display_data"
    }
   ],
   "source": [
    "# Define the sequence of segments\n",
    "segment_sequence = ['New Active', 'Active_High_Value', 'Active_Low_Value', 'Warm_High_Value', 'Warm_Low_Value', 'Cold', 'Inactive']\n",
    "\n",
    "# Reorder the transition matrix according to the sequence\n",
    "transition_matrix = transition_matrix.reindex(segment_sequence, axis=0)\n",
    "transition_matrix = transition_matrix.reindex(segment_sequence, axis=1)\n",
    "\n",
    "# Plot the heatmap\n",
    "plt.figure(figsize=(10, 8))\n",
    "sns.heatmap(transition_matrix, annot=True, cmap='YlGnBu', fmt='.2f', linewidths=0.5)\n",
    "plt.title('Transition Matrix')\n",
    "plt.xlabel('Segment at the end of 2019Q4')\n",
    "plt.ylabel('Segment at the end of 2019Q3')\n",
    "plt.show()"
   ]
  },
  {
   "cell_type": "code",
   "execution_count": 39,
   "id": "3574a9a3",
   "metadata": {},
   "outputs": [
    {
     "data": {
      "image/png": "[encoded data removed]",
      "text/plain": [
       "<Figure size 720x576 with 2 Axes>"
      ]
     },
     "metadata": {
      "needs_background": "light"
     },
     "output_type": "display_data"
    }
   ],
   "source": [
    "# Concatenate the three matrices along a new axis (axis=0) to stack them\n",
    "all_transition_matrices = transition_matrix + transition_matrix_q2 + transition_matrix_q3\n",
    "\n",
    "# Compute the mean along the new axis (axis=0) to get the average transition matrix\n",
    "average_transition_matrix = all_transition_matrices / 3\n",
    "# Define the sequence of segments\n",
    "segment_sequence = ['New Active', 'Active_High_Value', 'Active_Low_Value', 'Warm_High_Value', 'Warm_Low_Value', 'Cold', 'Inactive']\n",
    "\n",
    "# Reorder the transition matrix according to the sequence\n",
    "average_transition_matrix = average_transition_matrix.reindex(segment_sequence, axis=0)\n",
    "average_transition_matrix = average_transition_matrix.reindex(segment_sequence, axis=1)\n",
    "\n",
    "# Plot the heatmap\n",
    "plt.figure(figsize=(10, 8))\n",
    "sns.heatmap(average_transition_matrix, annot=True, cmap='YlGnBu', fmt='.2f', linewidths=0.5)\n",
    "plt.title('Average Transition Matrix')\n",
    "plt.show()"
   ]
  },
  {
   "cell_type": "code",
   "execution_count": 40,
   "id": "7e8a01cc",
   "metadata": {},
   "outputs": [
    {
     "data": {
      "image/png": "[encoded data removed]",
      "text/plain": [
       "<Figure size 720x432 with 1 Axes>"
      ]
     },
     "metadata": {
      "needs_background": "light"
     },
     "output_type": "display_data"
    }
   ],
   "source": [
    "# Assuming you have the 'Quantity' and 'Avg_Price' columns in your DataFrame\n",
    "data['Revenue'] = data['Quantity'] * data['Avg_Price']\n",
    "\n",
    "# Group by Quarter and sum the revenue\n",
    "revenue_by_quarter = data.groupby('Quarter')['Revenue'].sum()\n",
    "# Assuming you already have revenue_by_quarter calculated\n",
    "revenue_by_quarter.plot(kind='line', marker='o', figsize=(10, 6))\n",
    "plt.title('Total Revenue by Quarter')\n",
    "plt.xlabel('Quarter')\n",
    "plt.ylabel('Total Revenue')\n",
    "plt.grid(True)\n",
    "plt.show()"
   ]
  },
  {
   "cell_type": "code",
   "execution_count": 41,
   "id": "fefd6914",
   "metadata": {},
   "outputs": [
    {
     "data": {
      "text/plain": [
       "{'Active_High_Value': 90,\n",
       " 'Active_Low_Value': 29,\n",
       " 'Cold': 77,\n",
       " 'Inactive': 918,\n",
       " 'New Active': 261,\n",
       " 'Warm_High_Value': 78,\n",
       " 'Warm_Low_Value': 15}"
      ]
     },
     "execution_count": 41,
     "metadata": {},
     "output_type": "execute_result"
    }
   ],
   "source": [
    "# Calculate total count of customers per segment\n",
    "customers_per_segment = rfm_df_end_of_2019Q4.groupby('Segment').size().to_dict()\n",
    "customers_per_segment"
   ]
  },
  {
   "cell_type": "code",
   "execution_count": 42,
   "id": "862b7313",
   "metadata": {},
   "outputs": [
    {
     "data": {
      "text/html": [
       "<div>\n",
       "<style scoped>\n",
       "    .dataframe tbody tr th:only-of-type {\n",
       "        vertical-align: middle;\n",
       "    }\n",
       "\n",
       "    .dataframe tbody tr th {\n",
       "        vertical-align: top;\n",
       "    }\n",
       "\n",
       "    .dataframe thead th {\n",
       "        text-align: right;\n",
       "    }\n",
       "</style>\n",
       "<table border=\"1\" class=\"dataframe\">\n",
       "  <thead>\n",
       "    <tr style=\"text-align: right;\">\n",
       "      <th></th>\n",
       "      <th>New Active</th>\n",
       "      <th>Active_High_Value</th>\n",
       "      <th>Active_Low_Value</th>\n",
       "      <th>Warm_High_Value</th>\n",
       "      <th>Warm_Low_Value</th>\n",
       "      <th>Cold</th>\n",
       "      <th>Inactive</th>\n",
       "    </tr>\n",
       "  </thead>\n",
       "  <tbody>\n",
       "    <tr>\n",
       "      <th>2019Q4</th>\n",
       "      <td>261</td>\n",
       "      <td>90</td>\n",
       "      <td>29</td>\n",
       "      <td>78</td>\n",
       "      <td>15</td>\n",
       "      <td>77</td>\n",
       "      <td>918</td>\n",
       "    </tr>\n",
       "    <tr>\n",
       "      <th>2020Q1</th>\n",
       "      <td>0</td>\n",
       "      <td>95</td>\n",
       "      <td>25</td>\n",
       "      <td>83</td>\n",
       "      <td>33</td>\n",
       "      <td>89</td>\n",
       "      <td>1143</td>\n",
       "    </tr>\n",
       "    <tr>\n",
       "      <th>2020Q2</th>\n",
       "      <td>0</td>\n",
       "      <td>94</td>\n",
       "      <td>24</td>\n",
       "      <td>82</td>\n",
       "      <td>27</td>\n",
       "      <td>90</td>\n",
       "      <td>1151</td>\n",
       "    </tr>\n",
       "    <tr>\n",
       "      <th>2020Q3</th>\n",
       "      <td>0</td>\n",
       "      <td>92</td>\n",
       "      <td>28</td>\n",
       "      <td>84</td>\n",
       "      <td>21</td>\n",
       "      <td>69</td>\n",
       "      <td>1174</td>\n",
       "    </tr>\n",
       "    <tr>\n",
       "      <th>2020Q4</th>\n",
       "      <td>0</td>\n",
       "      <td>83</td>\n",
       "      <td>25</td>\n",
       "      <td>83</td>\n",
       "      <td>29</td>\n",
       "      <td>88</td>\n",
       "      <td>1160</td>\n",
       "    </tr>\n",
       "  </tbody>\n",
       "</table>\n",
       "</div>"
      ],
      "text/plain": [
       "        New Active  Active_High_Value  Active_Low_Value  Warm_High_Value  \\\n",
       "2019Q4         261                 90                29               78   \n",
       "2020Q1           0                 95                25               83   \n",
       "2020Q2           0                 94                24               82   \n",
       "2020Q3           0                 92                28               84   \n",
       "2020Q4           0                 83                25               83   \n",
       "\n",
       "        Warm_Low_Value  Cold  Inactive  \n",
       "2019Q4              15    77       918  \n",
       "2020Q1              33    89      1143  \n",
       "2020Q2              27    90      1151  \n",
       "2020Q3              21    69      1174  \n",
       "2020Q4              29    88      1160  "
      ]
     },
     "execution_count": 42,
     "metadata": {},
     "output_type": "execute_result"
    }
   ],
   "source": [
    "# Define the number of time steps for the simulation\n",
    "num_time_steps = 5  # Adjust as needed\n",
    "\n",
    "# Initialize a dictionary to store the count of customers in each segment at each time step\n",
    "simulation_results = {segment: [customers_per_segment[segment]] for segment in customers_per_segment}\n",
    "\n",
    "# Perform the simulation\n",
    "for t in range(1, num_time_steps):\n",
    "    # Initialize an empty dictionary to store the count of customers in each segment after the current time step\n",
    "    new_counts = {}\n",
    "    \n",
    "    # Iterate over segments\n",
    "    for from_segment in average_transition_matrix.index:\n",
    "        # Calculate the number of customers transitioning from the current segment to each other segment\n",
    "        transitions = np.random.multinomial(simulation_results[from_segment][-1], average_transition_matrix.loc[from_segment].values)\n",
    "        \n",
    "        # Update the count of customers in each segment after the transition\n",
    "        for i, to_segment in enumerate(average_transition_matrix.columns):\n",
    "            if to_segment in new_counts:\n",
    "                new_counts[to_segment] += transitions[i]\n",
    "            else:\n",
    "                new_counts[to_segment] = transitions[i]\n",
    "    \n",
    "    # Append the count of customers in each segment after the current time step to the simulation results\n",
    "    for segment in customers_per_segment.keys():\n",
    "        simulation_results[segment].append(new_counts.get(segment, 0))\n",
    "\n",
    "# Convert the simulation results to a DataFrame for easier analysis and visualization\n",
    "simulation_df = pd.DataFrame(simulation_results)\n",
    "\n",
    "# Reorder the columns based on the segment_sequence list\n",
    "simulation_df = simulation_df.reindex(columns=segment_sequence)\n",
    "\n",
    "# Create a list of quarter periods\n",
    "quarters = ['2019Q4', '2020Q1', '2020Q2', '2020Q3', '2020Q4']\n",
    "\n",
    "# Replace the index of the simulation_df DataFrame with the quarters list\n",
    "simulation_df.index = pd.PeriodIndex(quarters, freq='Q')\n",
    "\n",
    "simulation_df"
   ]
  },
  {
   "cell_type": "code",
   "execution_count": 43,
   "id": "64ee0ee9",
   "metadata": {},
   "outputs": [
    {
     "name": "stdout",
     "output_type": "stream",
     "text": [
      "Segment\n",
      "Active_High_Value    4196.802954\n",
      "Active_Low_Value      582.604094\n",
      "Cold                 1427.161108\n",
      "Inactive                     NaN\n",
      "New Active           1491.268593\n",
      "Warm_High_Value      3479.114712\n",
      "Warm_Low_Value        558.765404\n",
      "dtype: float64\n"
     ]
    }
   ],
   "source": [
    "\n",
    "data_Q1 = data[data['Quarter']=='2019Q1']\n",
    "merged_data_Q1 = data_Q1.merge(rfm_df_Q1[['CustomerID', 'Segment']], on='CustomerID', how='left')\n",
    "revenue_by_segment_Q1 = merged_data_Q1.groupby('Segment')['Revenue'].sum()\n",
    "customers_per_segment_Q1 = rfm_df_Q1.groupby('Segment').size()\n",
    "\n",
    "# Calculate average revenue per customer for each segment\n",
    "average_revenue_per_customer_q1 = revenue_by_segment_Q1 / customers_per_segment_Q1\n",
    "average_revenue_per_customer_q1\n",
    "# Add a new segment 'New Active' with a value of 0\n",
    "average_revenue_per_customer_q1.loc['New Active'] = 0\n",
    "\n",
    "data_Q2 = data[data['Quarter']=='2019Q2']\n",
    "merged_data_Q2 = data_Q2.merge(rfm_df_end_of_2019Q2[['CustomerID', 'Segment']], on='CustomerID', how='left')\n",
    "revenue_by_segment_Q2 = merged_data_Q2.groupby('Segment')['Revenue'].sum()\n",
    "customers_per_segment_Q2 = rfm_df_end_of_2019Q2.groupby('Segment').size()\n",
    "\n",
    "# Calculate average revenue per customer for each segment\n",
    "average_revenue_per_customer_q2 = revenue_by_segment_Q2 / customers_per_segment_Q2\n",
    "\n",
    "data_Q3 = data[data['Quarter']=='2019Q3']\n",
    "merged_data_Q3 = data_Q3.merge(rfm_df_end_of_2019Q3[['CustomerID', 'Segment']], on='CustomerID', how='left')\n",
    "revenue_by_segment_Q3 = merged_data_Q3.groupby('Segment')['Revenue'].sum()\n",
    "customers_per_segment_Q3 = rfm_df_end_of_2019Q3.groupby('Segment').size()\n",
    "\n",
    "# Calculate average revenue per customer for each segment\n",
    "average_revenue_per_customer_q3 = revenue_by_segment_Q3 / customers_per_segment_Q3\n",
    "\n",
    "data_Q4 = data[data['Quarter']=='2019Q4']\n",
    "merged_data_Q4 = data_Q4.merge(rfm_df_end_of_2019Q4[['CustomerID', 'Segment']], on='CustomerID', how='left')\n",
    "revenue_by_segment_Q4 = merged_data_Q4.groupby('Segment')['Revenue'].sum()\n",
    "customers_per_segment_Q4 = rfm_df_end_of_2019Q4.groupby('Segment').size()\n",
    "\n",
    "# Calculate average revenue per customer for each segment\n",
    "average_revenue_per_customer_q4 = revenue_by_segment_Q4 / customers_per_segment_Q4\n",
    "\n",
    "average_revenue_per_customer = (average_revenue_per_customer_q1 + average_revenue_per_customer_q2 + average_revenue_per_customer_q3 + average_revenue_per_customer_q4) / 4\n",
    "\n",
    "print(average_revenue_per_customer)"
   ]
  },
  {
   "cell_type": "code",
   "execution_count": 44,
   "id": "d4eef419",
   "metadata": {},
   "outputs": [
    {
     "data": {
      "text/html": [
       "<div>\n",
       "<style scoped>\n",
       "    .dataframe tbody tr th:only-of-type {\n",
       "        vertical-align: middle;\n",
       "    }\n",
       "\n",
       "    .dataframe tbody tr th {\n",
       "        vertical-align: top;\n",
       "    }\n",
       "\n",
       "    .dataframe thead th {\n",
       "        text-align: right;\n",
       "    }\n",
       "</style>\n",
       "<table border=\"1\" class=\"dataframe\">\n",
       "  <thead>\n",
       "    <tr style=\"text-align: right;\">\n",
       "      <th></th>\n",
       "      <th>New Active</th>\n",
       "      <th>Active_High_Value</th>\n",
       "      <th>Active_Low_Value</th>\n",
       "      <th>Warm_High_Value</th>\n",
       "      <th>Warm_Low_Value</th>\n",
       "      <th>Cold</th>\n",
       "      <th>Inactive</th>\n",
       "      <th>Gross Margin in Each Quarter</th>\n",
       "    </tr>\n",
       "  </thead>\n",
       "  <tbody>\n",
       "    <tr>\n",
       "      <th>2019Q4</th>\n",
       "      <td>389221.102773</td>\n",
       "      <td>377712.265860</td>\n",
       "      <td>16895.518726</td>\n",
       "      <td>271370.947536</td>\n",
       "      <td>8381.481060</td>\n",
       "      <td>109891.405316</td>\n",
       "      <td>0</td>\n",
       "      <td>1.173473e+06</td>\n",
       "    </tr>\n",
       "    <tr>\n",
       "      <th>2020Q1</th>\n",
       "      <td>0.000000</td>\n",
       "      <td>398696.280630</td>\n",
       "      <td>14565.102350</td>\n",
       "      <td>288766.521096</td>\n",
       "      <td>18439.258332</td>\n",
       "      <td>127017.338612</td>\n",
       "      <td>0</td>\n",
       "      <td>8.474845e+05</td>\n",
       "    </tr>\n",
       "    <tr>\n",
       "      <th>2020Q2</th>\n",
       "      <td>0.000000</td>\n",
       "      <td>394499.477676</td>\n",
       "      <td>13982.498256</td>\n",
       "      <td>285287.406384</td>\n",
       "      <td>15086.665908</td>\n",
       "      <td>128444.499720</td>\n",
       "      <td>0</td>\n",
       "      <td>8.373005e+05</td>\n",
       "    </tr>\n",
       "    <tr>\n",
       "      <th>2020Q3</th>\n",
       "      <td>0.000000</td>\n",
       "      <td>386105.871768</td>\n",
       "      <td>16312.914632</td>\n",
       "      <td>292245.635808</td>\n",
       "      <td>11734.073484</td>\n",
       "      <td>98474.116452</td>\n",
       "      <td>0</td>\n",
       "      <td>8.048726e+05</td>\n",
       "    </tr>\n",
       "    <tr>\n",
       "      <th>2020Q4</th>\n",
       "      <td>0.000000</td>\n",
       "      <td>348334.645182</td>\n",
       "      <td>14565.102350</td>\n",
       "      <td>288766.521096</td>\n",
       "      <td>16204.196716</td>\n",
       "      <td>125590.177504</td>\n",
       "      <td>0</td>\n",
       "      <td>7.934606e+05</td>\n",
       "    </tr>\n",
       "  </tbody>\n",
       "</table>\n",
       "</div>"
      ],
      "text/plain": [
       "           New Active  Active_High_Value  Active_Low_Value  Warm_High_Value  \\\n",
       "2019Q4  389221.102773      377712.265860      16895.518726    271370.947536   \n",
       "2020Q1       0.000000      398696.280630      14565.102350    288766.521096   \n",
       "2020Q2       0.000000      394499.477676      13982.498256    285287.406384   \n",
       "2020Q3       0.000000      386105.871768      16312.914632    292245.635808   \n",
       "2020Q4       0.000000      348334.645182      14565.102350    288766.521096   \n",
       "\n",
       "        Warm_Low_Value           Cold  Inactive  Gross Margin in Each Quarter  \n",
       "2019Q4     8381.481060  109891.405316         0                  1.173473e+06  \n",
       "2020Q1    18439.258332  127017.338612         0                  8.474845e+05  \n",
       "2020Q2    15086.665908  128444.499720         0                  8.373005e+05  \n",
       "2020Q3    11734.073484   98474.116452         0                  8.048726e+05  \n",
       "2020Q4    16204.196716  125590.177504         0                  7.934606e+05  "
      ]
     },
     "execution_count": 44,
     "metadata": {},
     "output_type": "execute_result"
    }
   ],
   "source": [
    "# Provided average revenue per segment\n",
    "average_revenue_per_segment = {\n",
    "    'Active_High_Value': 4196.802954,\n",
    "    'Active_Low_Value': 582.604094,\n",
    "    'New Active': 1491.268593,\n",
    "    'Warm_High_Value': 3479.114712,\n",
    "    'Warm_Low_Value': 558.765404,\n",
    "    'Cold':1427.161108,\n",
    "    'Inactive': 0  \n",
    "}\n",
    "\n",
    "# Calculate gross margin for each segment at each time step\n",
    "gross_margin = simulation_df.copy()  # Create a copy of simulation_df to store gross margin\n",
    "\n",
    "for segment in segment_sequence:\n",
    "    gross_margin[segment] *= average_revenue_per_segment[segment]\n",
    "\n",
    "# Sum gross margin across all segments at each time step\n",
    "gross_margin['Gross Margin in Each Quarter'] = gross_margin.sum(axis=1)\n",
    "\n",
    "gross_margin"
   ]
  },
  {
   "cell_type": "code",
   "execution_count": 45,
   "id": "901e17a4",
   "metadata": {},
   "outputs": [
    {
     "name": "stderr",
     "output_type": "stream",
     "text": [
      "/var/folders/62/grj8ft516czf_wks6812mm0r0000gn/T/ipykernel_27814/3289100892.py:6: SettingWithCopyWarning: \n",
      "A value is trying to be set on a copy of a slice from a DataFrame.\n",
      "Try using .loc[row_indexer,col_indexer] = value instead\n",
      "\n",
      "See the caveats in the documentation: https://pandas.pydata.org/pandas-docs/stable/user_guide/indexing.html#returning-a-view-versus-a-copy\n",
      "  gross_margin['Discounted Net Margin'] = gross_margin['Gross Margin in Each Quarter'] * (1 - discount_rate)\n",
      "/var/folders/62/grj8ft516czf_wks6812mm0r0000gn/T/ipykernel_27814/3289100892.py:9: SettingWithCopyWarning: \n",
      "A value is trying to be set on a copy of a slice from a DataFrame.\n",
      "Try using .loc[row_indexer,col_indexer] = value instead\n",
      "\n",
      "See the caveats in the documentation: https://pandas.pydata.org/pandas-docs/stable/user_guide/indexing.html#returning-a-view-versus-a-copy\n",
      "  gross_margin['Cumulative Net Margin'] = gross_margin['Discounted Net Margin'].cumsum()\n"
     ]
    },
    {
     "data": {
      "text/html": [
       "<div>\n",
       "<style scoped>\n",
       "    .dataframe tbody tr th:only-of-type {\n",
       "        vertical-align: middle;\n",
       "    }\n",
       "\n",
       "    .dataframe tbody tr th {\n",
       "        vertical-align: top;\n",
       "    }\n",
       "\n",
       "    .dataframe thead th {\n",
       "        text-align: right;\n",
       "    }\n",
       "</style>\n",
       "<table border=\"1\" class=\"dataframe\">\n",
       "  <thead>\n",
       "    <tr style=\"text-align: right;\">\n",
       "      <th></th>\n",
       "      <th>Gross Margin in Each Quarter</th>\n",
       "      <th>Discounted Net Margin</th>\n",
       "      <th>Cumulative Net Margin</th>\n",
       "    </tr>\n",
       "  </thead>\n",
       "  <tbody>\n",
       "    <tr>\n",
       "      <th>2020Q1</th>\n",
       "      <td>847484.501020</td>\n",
       "      <td>720361.825867</td>\n",
       "      <td>7.203618e+05</td>\n",
       "    </tr>\n",
       "    <tr>\n",
       "      <th>2020Q2</th>\n",
       "      <td>837300.547944</td>\n",
       "      <td>711705.465752</td>\n",
       "      <td>1.432067e+06</td>\n",
       "    </tr>\n",
       "    <tr>\n",
       "      <th>2020Q3</th>\n",
       "      <td>804872.612144</td>\n",
       "      <td>684141.720322</td>\n",
       "      <td>2.116209e+06</td>\n",
       "    </tr>\n",
       "    <tr>\n",
       "      <th>2020Q4</th>\n",
       "      <td>793460.642848</td>\n",
       "      <td>674441.546421</td>\n",
       "      <td>2.790651e+06</td>\n",
       "    </tr>\n",
       "  </tbody>\n",
       "</table>\n",
       "</div>"
      ],
      "text/plain": [
       "        Gross Margin in Each Quarter  Discounted Net Margin  \\\n",
       "2020Q1                 847484.501020          720361.825867   \n",
       "2020Q2                 837300.547944          711705.465752   \n",
       "2020Q3                 804872.612144          684141.720322   \n",
       "2020Q4                 793460.642848          674441.546421   \n",
       "\n",
       "        Cumulative Net Margin  \n",
       "2020Q1           7.203618e+05  \n",
       "2020Q2           1.432067e+06  \n",
       "2020Q3           2.116209e+06  \n",
       "2020Q4           2.790651e+06  "
      ]
     },
     "execution_count": 45,
     "metadata": {},
     "output_type": "execute_result"
    }
   ],
   "source": [
    "gross_margin = gross_margin[1:5]\n",
    "# Define the discount rate\n",
    "discount_rate = 0.15  # Example discount rate of 10%\n",
    "\n",
    "# Apply discount to the total gross margin values\n",
    "gross_margin['Discounted Net Margin'] = gross_margin['Gross Margin in Each Quarter'] * (1 - discount_rate)\n",
    "\n",
    "# Calculate the cumulative net margin\n",
    "gross_margin['Cumulative Net Margin'] = gross_margin['Discounted Net Margin'].cumsum()\n",
    "\n",
    "# Select the desired columns\n",
    "net_margin_df = gross_margin[['Gross Margin in Each Quarter', 'Discounted Net Margin', 'Cumulative Net Margin']]\n",
    "\n",
    "# Output the DataFrame\n",
    "net_margin_df"
   ]
  },
  {
   "cell_type": "code",
   "execution_count": 46,
   "id": "e6a00cdf",
   "metadata": {},
   "outputs": [
    {
     "data": {
      "text/plain": [
       "4643625.49"
      ]
     },
     "execution_count": 46,
     "metadata": {},
     "output_type": "execute_result"
    }
   ],
   "source": [
    "revenue_2019 = data['Revenue'].sum()\n",
    "revenue_2019"
   ]
  },
  {
   "cell_type": "code",
   "execution_count": 53,
   "id": "32d06ebd",
   "metadata": {},
   "outputs": [
    {
     "name": "stdout",
     "output_type": "stream",
     "text": [
      "60.09638387095683\n"
     ]
    }
   ],
   "source": [
    "print(2790651/4643625.49 *100)"
   ]
  },
  {
   "cell_type": "code",
   "execution_count": 48,
   "id": "25d62e26",
   "metadata": {},
   "outputs": [
    {
     "data": {
      "text/plain": [
       "Segment\n",
       "Active_High_Value    26.019709\n",
       "Active_Low_Value     28.540541\n",
       "Cold                 10.000000\n",
       "New Active           20.131329\n",
       "Warm_High_Value      18.870491\n",
       "Warm_Low_Value       18.947368\n",
       "Name: Discount_pct, dtype: float64"
      ]
     },
     "execution_count": 48,
     "metadata": {},
     "output_type": "execute_result"
    }
   ],
   "source": [
    "# Assuming 'customer_id' is the common column in both DataFrames\n",
    "data_Q4 = data[(data['Quarter'] == '2019Q4') & ((data['Coupon_Status'] == 'Used') | (data['Coupon_Status'] == 'Clicked'))]\n",
    "merged_data_Q4 = data_Q4.merge(rfm_df_end_of_2019Q4[['CustomerID', 'Segment']], on='CustomerID', how='left')\n",
    "revenue_by_segment_Q4 = merged_data_Q4.groupby('Segment')['Discount_pct'].mean()\n",
    "revenue_by_segment_Q4"
   ]
  },
  {
   "cell_type": "code",
   "execution_count": 49,
   "id": "ec886bf9",
   "metadata": {},
   "outputs": [
    {
     "data": {
      "image/png": "[encoded data removed]",
      "text/plain": [
       "<Figure size 432x288 with 1 Axes>"
      ]
     },
     "metadata": {
      "needs_background": "light"
     },
     "output_type": "display_data"
    }
   ],
   "source": [
    "revenue_by_segment_Q4.plot(kind='bar', color='skyblue')\n",
    "\n",
    "# Adding labels and title\n",
    "plt.title('Average Discount Percentage by Segment for Quarter 4 (2019Q4)')\n",
    "plt.xlabel('Segment')\n",
    "plt.ylabel('Average Discount Percentage')\n",
    "\n",
    "# Rotating x-axis labels for better readability (optional)\n",
    "plt.xticks(rotation=45)\n",
    "\n",
    "# Display the plot\n",
    "plt.tight_layout()\n",
    "plt.show()"
   ]
  },
  {
   "cell_type": "code",
   "execution_count": 50,
   "id": "8cc5d423",
   "metadata": {},
   "outputs": [
    {
     "data": {
      "text/plain": [
       "Quarter\n",
       "2019Q1    20.224949\n",
       "2019Q2    19.986037\n",
       "2019Q3    19.517709\n",
       "2019Q4    20.201831\n",
       "Freq: Q-DEC, Name: Discount_pct, dtype: float64"
      ]
     },
     "execution_count": 50,
     "metadata": {},
     "output_type": "execute_result"
    }
   ],
   "source": [
    "# Group by Quarter and calculate the mean discount percentage\n",
    "data_coupon_used = data[data['Coupon_Status']=='Used']\n",
    "average_discount_used_by_quarter = data_coupon_used.groupby('Quarter')['Discount_pct'].mean()\n",
    "average_discount_used_by_quarter"
   ]
  },
  {
   "cell_type": "code",
   "execution_count": 51,
   "id": "3977e8a6",
   "metadata": {},
   "outputs": [
    {
     "data": {
      "image/png": "[encoded data removed]",
      "text/plain": [
       "<Figure size 720x432 with 1 Axes>"
      ]
     },
     "metadata": {
      "needs_background": "light"
     },
     "output_type": "display_data"
    }
   ],
   "source": [
    "x_labels = average_discount_used_by_quarter.index.astype(str)\n",
    "\n",
    "plt.figure(figsize=(10, 6))\n",
    "\n",
    "# Plot average discount used by quarter\n",
    "plt.plot(x_labels, average_discount_used_by_quarter.values, marker='o', label='Average Discount Used')\n",
    "\n",
    "plt.title('Average Discount Percentage by Quarter')\n",
    "plt.xlabel('Quarter')\n",
    "plt.ylabel('Average Discount Percentage')\n",
    "plt.legend()\n",
    "plt.grid(True)\n",
    "plt.show()"
   ]
  },
  {
   "cell_type": "code",
   "execution_count": 52,
   "id": "82e79cb3",
   "metadata": {},
   "outputs": [
    {
     "data": {
      "image/png": "[encoded data removed]",
      "text/plain": [
       "<Figure size 432x288 with 1 Axes>"
      ]
     },
     "metadata": {
      "needs_background": "light"
     },
     "output_type": "display_data"
    }
   ],
   "source": [
    "# Plotting the bar chart\n",
    "average_revenue_per_customer.plot(kind='bar', color='lightgreen')\n",
    "\n",
    "# Adding labels and title\n",
    "plt.title('Average Revenue per Customer by Segment for 2019')\n",
    "plt.xlabel('Segment')\n",
    "plt.ylabel('Average Revenue per Customer')\n",
    "\n",
    "# Rotating x-axis labels for better readability (optional)\n",
    "plt.xticks(rotation=45)\n",
    "\n",
    "# Display the plot\n",
    "plt.tight_layout()\n",
    "plt.show()"
   ]
  },
  {
   "cell_type": "code",
   "execution_count": null,
   "id": "123b1a35",
   "metadata": {},
   "outputs": [],
   "source": []
  }
 ],
 "metadata": {
  "kernelspec": {
   "display_name": "Python 3 (ipykernel)",
   "language": "python",
   "name": "python3"
  },
  "language_info": {
   "codemirror_mode": {
    "name": "ipython",
    "version": 3
   },
   "file_extension": ".py",
   "mimetype": "text/x-python",
   "name": "python",
   "nbconvert_exporter": "python",
   "pygments_lexer": "ipython3",
   "version": "3.9.7"
  }
 },
 "nbformat": 4,
 "nbformat_minor": 5
}
